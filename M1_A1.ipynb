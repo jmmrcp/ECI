{
  "nbformat": 4,
  "nbformat_minor": 0,
  "metadata": {
    "colab": {
      "private_outputs": true,
      "provenance": [],
      "authorship_tag": "ABX9TyNGtx4I7XX3GvnKNR5x7pyU",
      "include_colab_link": true
    },
    "kernelspec": {
      "name": "python3",
      "display_name": "Python 3"
    },
    "language_info": {
      "name": "python"
    }
  },
  "cells": [
    {
      "cell_type": "markdown",
      "metadata": {
        "id": "view-in-github",
        "colab_type": "text"
      },
      "source": [
        "<a href=\"https://colab.research.google.com/github/jmmrcp/ECI/blob/main/M1_A1.ipynb\" target=\"_parent\"><img src=\"https://colab.research.google.com/assets/colab-badge.svg\" alt=\"Open In Colab\"/></a>"
      ]
    },
    {
      "cell_type": "markdown",
      "source": [
        "# Conceptos Clave de la IA Simbólica\n",
        "* **Representación del Conocimiento**: Los problemas se modelan usando símbolos. Por ejemplo, padre(juan, pedro) podría representar el hecho de que \"Juan es el padre de Pedro\".\n",
        "* **Motor de Inferencia**: Un conjunto de reglas lógicas (un \"motor\") procesa estos símbolos para deducir nueva información. Por ejemplo, una regla podría ser: abuelo(X, Y) :- padre(X, Z), padre(Z, Y) (X es abuelo de Y si X es padre de Z y Z es padre de Y).\n",
        "* **Búsqueda**: Muchos problemas se resuelven buscando una solución en un espacio de estados posibles.\n",
        "* **Explicabilidad**: Una de sus grandes ventajas. Como las reglas son explícitas, es fácil entender por qué el sistema tomó una decisión determinada."
      ],
      "metadata": {
        "id": "zINh_5dPZZmz"
      }
    },
    {
      "cell_type": "markdown",
      "source": [
        "# Ejemplo 1: Sistemas Expertos (Lógica basada en reglas)\n",
        "\n",
        "Un sistema experto imita el razonamiento de un experto humano en un dominio específico. Utiliza una base de conocimiento de hechos y reglas.\n",
        "\n",
        "Este es un ejemplo muy simple de un sistema de diagnóstico médico, implementado con if-elif-else, que es la forma más básica de un motor de inferencia."
      ],
      "metadata": {
        "id": "ituZT8-8ZzlL"
      }
    },
    {
      "cell_type": "code",
      "source": [
        "def sistema_experto_diagnostico():\n",
        "    \"\"\"\n",
        "    Un sistema experto muy simple para un diagnóstico básico.\n",
        "    Las preguntas y reglas están codificadas directamente.\n",
        "    \"\"\"\n",
        "    print(\"Bienvenido al sistema de diagnóstico. Responda 'si' o 'no'.\")\n",
        "\n",
        "    # Base de conocimiento implícita en las reglas\n",
        "    sintomas = {}\n",
        "    sintomas['fiebre'] = input(\"¿Tiene fiebre? \")\n",
        "    sintomas['tos'] = input(\"¿Tiene tos? \")\n",
        "    sintomas['dolor_garganta'] = input(\"¿Tiene dolor de garganta? \")\n",
        "\n",
        "    # Motor de inferencia (reglas)\n",
        "    if sintomas['fiebre'] == 'si' and sintomas['tos'] == 'si' and sintomas['dolor_garganta'] == 'si':\n",
        "        diagnostico = \"Posiblemente una gripe. Se recomienda consultar a un médico.\"\n",
        "    elif sintomas['fiebre'] == 'si' and sintomas['tos'] == 'no':\n",
        "        diagnostico = \"La fiebre sin otros síntomas puede tener muchas causas. Vigile su estado.\"\n",
        "    elif sintomas['tos'] == 'si' and sintomas['dolor_garganta'] == 'si':\n",
        "        diagnostico = \"Podría ser un resfriado común o una infección de garganta.\"\n",
        "    else:\n",
        "        diagnostico = \"No se pudo determinar un diagnóstico claro con esta información.\"\n",
        "\n",
        "    return diagnostico\n",
        "\n",
        "# Ejecutar el sistema experto\n",
        "resultado = sistema_experto_diagnostico()\n",
        "print(\"\\n--- Diagnóstico ---\")\n",
        "print(resultado)"
      ],
      "metadata": {
        "id": "dtGJQ145aAGL"
      },
      "execution_count": null,
      "outputs": []
    },
    {
      "cell_type": "markdown",
      "source": [
        "**Explicación**:\n",
        "* **Representación**: Los síntomas (fiebre, tos) y sus valores (si/no) son los símbolos.\n",
        "* **Inferencia**: La cadena de if/elif/else actúa como el motor de inferencia, aplicando reglas para llegar a una conclusión."
      ],
      "metadata": {
        "id": "zxWtAU3laQur"
      }
    },
    {
      "cell_type": "markdown",
      "source": [
        "# Ejemplo 2: Lógica de Predicados con pyDatalog\n",
        "Este es un enfoque más formal y potente. Usaremos la librería pyDatalog para emular la programación lógica (como en el lenguaje Prolog).\n",
        "\n",
        "Primero, necesitas instalar la librería en Colab: !pip install pyDatalog"
      ],
      "metadata": {
        "id": "Aq6SwkQMalYT"
      }
    },
    {
      "cell_type": "code",
      "source": [
        "%pip install pyDatalog"
      ],
      "metadata": {
        "id": "1rR3m9AubYUQ"
      },
      "execution_count": null,
      "outputs": []
    },
    {
      "cell_type": "code",
      "source": [
        "from pyDatalog import pyDatalog\n",
        "\n",
        "# 1. Crear términos (variables y relaciones)\n",
        "pyDatalog.create_terms('padre, madre, abuelo, X, Y, Z')\n",
        "\n",
        "# 2. Añadir hechos (Base de conocimiento)\n",
        "# El signo '+' añade un hecho a la base de datos lógica.\n",
        "+ padre('juan', 'pedro')\n",
        "+ padre('pedro', 'ana')\n",
        "+ padre('carlos', 'maria')\n",
        "+ madre('isabel', 'pedro')\n",
        "\n",
        "# 3. Definir reglas (Motor de inferencia)\n",
        "# La regla se lee: \"X es abuelo de Y SI X es padre de Z Y Z es padre de Y\"\n",
        "abuelo(X, Y) <= padre(X, Z) & padre(Z, Y)\n",
        "\n",
        "# 4. Realizar consultas (Hacer preguntas al sistema)\n",
        "# ¿De quién es abuelo Juan?\n",
        "print(\"¿De quién es abuelo Juan?\")\n",
        "print(abuelo('juan', X))\n",
        "\n",
        "# ¿Quién es el padre de Pedro?\n",
        "print(\"\\n¿Quién es el padre de Pedro?\")\n",
        "print(padre(X, 'pedro'))\n",
        "\n",
        "# ¿Quiénes son todos los abuelos y sus nietos?\n",
        "print(\"\\nTodos los abuelos y nietos:\")\n",
        "print(abuelo(X, Y))"
      ],
      "metadata": {
        "id": "z0pwVX8Hag-F"
      },
      "execution_count": null,
      "outputs": []
    },
    {
      "cell_type": "markdown",
      "source": [
        "**Explicación**:\n",
        "\n",
        "* **Representación**: Hechos como padre('juan', 'pedro') son los símbolos y sus relaciones.\n",
        "\n",
        "* **Inferencia**: La regla abuelo(X, Y) <= ... permite al sistema deducir nueva información (quiénes son los abuelos) que no fue explícitamente declarada."
      ],
      "metadata": {
        "id": "vDVGNKZNbJP1"
      }
    },
    {
      "cell_type": "markdown",
      "source": [
        "# Ejemplo 3: Álgebra Simbólica con SymPy\n",
        "Las matemáticas simbólicas son un pilar de este tipo de IA. En lugar de calcular un resultado numérico (como 2+2=4), manipula las expresiones matemáticas en su forma simbólica.\n",
        "\n",
        "SymPy es la librería por excelencia para esto en Python."
      ],
      "metadata": {
        "id": "2ml2CBo0bzsA"
      }
    },
    {
      "cell_type": "code",
      "source": [
        "import sympy\n",
        "\n",
        "# 1. Definir símbolos (variables matemáticas)\n",
        "x, y = sympy.symbols('x y')\n",
        "\n",
        "# 2. Crear una expresión algebraica\n",
        "expresion = (x + y)**2\n",
        "print(f\"Expresión original: {expresion}\")\n",
        "\n",
        "# 3. Manipular la expresión simbólicamente (expandir)\n",
        "expresion_expandida = sympy.expand(expresion)\n",
        "print(f\"Expresión expandida: {expresion_expandida}\")\n",
        "\n",
        "# 4. Resolver una ecuación simbólicamente\n",
        "# Queremos resolver x^2 - 4 = 0\n",
        "ecuacion = sympy.Eq(x**2 - 4, 0)\n",
        "soluciones = sympy.solve(ecuacion, x)\n",
        "print(f\"\\nLas soluciones de la ecuación {ecuacion} son: {soluciones}\")\n",
        "\n",
        "# 5. Calcular una derivada simbólicamente\n",
        "derivada = sympy.diff(sympy.sin(x) * sympy.exp(x), x)\n",
        "print(f\"\\nLa derivada de sin(x)*exp(x) es: {derivada}\")"
      ],
      "metadata": {
        "id": "YAs9tcSRb7Mx"
      },
      "execution_count": null,
      "outputs": []
    },
    {
      "cell_type": "markdown",
      "source": [
        "**Explicación**:\n",
        "* SymPy no trata a x como un número, sino como un símbolo abstracto.\n",
        "* Puede realizar operaciones como expandir, factorizar, derivar o integrar expresiones, manteniendo su forma simbólica, tal como lo haría un humano en una pizarra."
      ],
      "metadata": {
        "id": "mGh5ob3bcIgY"
      }
    },
    {
      "cell_type": "markdown",
      "source": [
        "# Ejemplo 4: Problemas de Satisfacción de Restricciones (CSP)\n",
        "Muchos problemas de IA (como Sudokus, horarios, o puzzles lógicos) pueden modelarse como un CSP. La idea es encontrar una asignación de valores a un conjunto de variables que satisfaga un conjunto de restricciones.\n",
        "\n",
        "Usaremos la librería python-constraint. Primero, instálala: !pip install python-constraint"
      ],
      "metadata": {
        "id": "KX2A-XjqcSew"
      }
    },
    {
      "cell_type": "code",
      "source": [
        "%pip install python-constraint"
      ],
      "metadata": {
        "id": "Ch-cW0y3ciS5"
      },
      "execution_count": null,
      "outputs": []
    },
    {
      "cell_type": "markdown",
      "source": [
        "`Problema: El famoso puzzle cripto-aritmético SEND + MORE = MONEY.`\n",
        "\n",
        "# SOLUCIÓN\n",
        "Evidentemente M=1.\n",
        "\n",
        "Por tanto, las últimas cifras de la izquierda implican que S vale 8 o 9, y O vale 0 o 1.\n",
        "\n",
        "Si fuera S=8 tendríamos que O=0 y E=9, lo cual es imposible pues se deduciría que N=0, hecho\n",
        "contradictorio al ser la letra N distinta de la letra O.\n",
        "\n",
        "En resumen, M=1, S=9 y, en consecuencia, O=0 pues E no puede ser 9.\n",
        "\n",
        "Se deduce entonces que E+1=N, por lo que\n",
        "\n",
        "* N+R=10+E, que conduce a que R=9, contradictorio con el hecho de que S=9 y R no es S\n",
        "* N+R+1=10+E, que permite deducir que R=8\n",
        "\n",
        "De R=8 y E+1=N se obtiene por descarte, con las cifras que quedan, que N=6 y E=5.\n",
        "\n",
        "Por último, fácilmente puede obtenerse que Y=2 y D=7."
      ],
      "metadata": {
        "id": "QQj2X2gsd9Wc"
      }
    },
    {
      "cell_type": "code",
      "source": [
        "from constraint import *\n",
        "\n",
        "# 1. Crear un objeto Problema\n",
        "problema = Problem()\n",
        "\n",
        "# 2. Definir las variables y sus dominios (los dígitos del 0 al 9)\n",
        "letras = ['S', 'E', 'N', 'D', 'M', 'O', 'R', 'Y']\n",
        "problema.addVariables(letras, range(10))\n",
        "\n",
        "# 3. Añadir las restricciones\n",
        "# a) Restricción de que todas las letras deben tener valores diferentes\n",
        "problema.addConstraint(AllDifferentConstraint())\n",
        "\n",
        "# b) Restricción de que S y M no pueden ser 0 (primer dígito)\n",
        "problema.addConstraint(lambda s, m: s != 0 and m != 0, ('S', 'M'))\n",
        "\n",
        "# c) Restricción matemática: SEND + MORE = MONEY\n",
        "def restriccion_suma(s, e, n, d, m, o, r, y):\n",
        "    send = s*1000 + e*100 + n*10 + d\n",
        "    more = m*1000 + o*100 + r*10 + e\n",
        "    money = m*10000 + o*1000 + n*100 + e*10 + y\n",
        "    if send + more == money:\n",
        "        return True\n",
        "\n",
        "problema.addConstraint(restriccion_suma, letras)\n",
        "\n",
        "# 4. Encontrar una solución\n",
        "soluciones = problema.getSolutions()\n",
        "\n",
        "print(f\"Número de soluciones encontradas: {len(soluciones)}\")\n",
        "print(\"Una solución es:\")\n",
        "# Imprimir la solución de forma legible\n",
        "sol = soluciones[0]\n",
        "print(f\"  {sol['S']}{sol['E']}{sol['N']}{sol['D']}\")\n",
        "print(f\"+ {sol['M']}{sol['O']}{sol['R']}{sol['E']}\")\n",
        "print(\"-------\")\n",
        "print(f\" {sol['M']}{sol['O']}{sol['N']}{sol['E']}{sol['Y']}\")"
      ],
      "metadata": {
        "id": "MowHoJrOcosp"
      },
      "execution_count": null,
      "outputs": []
    },
    {
      "cell_type": "markdown",
      "source": [
        "**Explicación**:\n",
        "* **Representación**: Las variables son las letras y su dominio son los dígitos.\n",
        "* **Inferencia/Búsqueda**: El \"solver\" de la librería busca sistemáticamente en el espacio de posibles asignaciones de dígitos a letras, descartando aquellas que violan las restricciones hasta encontrar una que las cumpla todas."
      ],
      "metadata": {
        "id": "o9VzRlnKc-Rb"
      }
    },
    {
      "cell_type": "markdown",
      "source": [
        "# Conclusión\n",
        "La IA Simbólica es extremadamente poderosa para problemas que se pueden definir con reglas claras y lógicas. Su transparencia la hace ideal para campos donde la explicabilidad es crucial (medicina, finanzas, derecho). Aunque el Machine Learning domina el panorama actual, la IA Simbólica sigue siendo fundamental y, de hecho, el futuro de la IA probablemente resida en sistemas híbridos que combinen el aprendizaje basado en datos del ML con la capacidad de razonamiento y conocimiento explícito de la IA Simbólica."
      ],
      "metadata": {
        "id": "lcVmMLbOdGGK"
      }
    }
  ]
}